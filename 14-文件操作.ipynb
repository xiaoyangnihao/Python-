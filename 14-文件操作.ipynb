{
 "cells": [
  {
   "cell_type": "code",
   "execution_count": 1,
   "metadata": {},
   "outputs": [
    {
     "name": "stdout",
     "output_type": "stream",
     "text": [
      "Writing yang.txt\n"
     ]
    }
   ],
   "source": [
    "%%writefile yang.txt\n",
    "yanghongbiao\n",
    "zhuangyingjun\n",
    "HelloWorld"
   ]
  },
  {
   "cell_type": "code",
   "execution_count": 21,
   "metadata": {},
   "outputs": [],
   "source": [
    "txt = open('./data/yang.txt')"
   ]
  },
  {
   "cell_type": "code",
   "execution_count": 14,
   "metadata": {},
   "outputs": [
    {
     "name": "stdout",
     "output_type": "stream",
     "text": [
      "yanghongbiao\n",
      "zhuangyingjun\n",
      "HelloWorld\n",
      "\n"
     ]
    }
   ],
   "source": [
    "txt_content = txt.read()\n",
    "print(txt_content)"
   ]
  },
  {
   "cell_type": "code",
   "execution_count": 22,
   "metadata": {},
   "outputs": [
    {
     "name": "stdout",
     "output_type": "stream",
     "text": [
      "<class 'list'>\n",
      "['yanghongbiao\\n', 'zhuangyingjun\\n', 'HelloWorld\\n']\n"
     ]
    }
   ],
   "source": [
    "lines = txt.readlines()\n",
    "print(type(lines))\n",
    "print(lines)"
   ]
  },
  {
   "cell_type": "code",
   "execution_count": 23,
   "metadata": {},
   "outputs": [
    {
     "name": "stdout",
     "output_type": "stream",
     "text": [
      "yanghongbiao\n",
      "\n",
      "zhuangyingjun\n",
      "\n",
      "HelloWorld\n",
      "\n"
     ]
    }
   ],
   "source": [
    "for line in lines:\n",
    "    print(line)"
   ]
  },
  {
   "cell_type": "code",
   "execution_count": 24,
   "metadata": {},
   "outputs": [],
   "source": [
    "txt.close()"
   ]
  },
  {
   "cell_type": "code",
   "execution_count": 26,
   "metadata": {},
   "outputs": [],
   "source": [
    "txt = open('./data/new.txt','w')\n",
    "for i in range(5):\n",
    "    txt.write(str(i)+'\\n')\n",
    "txt.close()"
   ]
  },
  {
   "cell_type": "code",
   "execution_count": 29,
   "metadata": {},
   "outputs": [
    {
     "name": "stdout",
     "output_type": "stream",
     "text": [
      "0\n",
      "1\n",
      "2\n",
      "3\n",
      "4\n",
      "HelloPyhon\n",
      "HelloPyhon\n",
      "HelloPyhon\n",
      "\n"
     ]
    }
   ],
   "source": [
    "txt = open('./data/new.txt','a')\n",
    "txt.write('HelloPyhon\\n')\n",
    "txt.close()\n",
    "txt2 = open('./data/new.txt','r')\n",
    "print(txt2.read())"
   ]
  },
  {
   "cell_type": "markdown",
   "metadata": {},
   "source": [
    "* 'w'：表示写\n",
    "* 'a'：表示追加\n",
    "* 'r'：表示读"
   ]
  },
  {
   "cell_type": "code",
   "execution_count": 34,
   "metadata": {},
   "outputs": [
    {
     "name": "stdout",
     "output_type": "stream",
     "text": [
      "invalid number:  6\n"
     ]
    }
   ],
   "source": [
    "txt = open('./data/number.txt','w')\n",
    "try:\n",
    "    for i in range(10):\n",
    "        1 / (i - 6)\n",
    "        txt.write(str(i) + '\\n')\n",
    "except ZeroDivisionError:\n",
    "    print('invalid number: ', i)\n",
    "finally:\n",
    "    txt.close()\n",
    "    "
   ]
  },
  {
   "cell_type": "markdown",
   "metadata": {},
   "source": [
    "* 记住open 与close一般都是成对使用到的\n",
    "* 使用with可以不用手动捕获异常和close，它会帮我们完成"
   ]
  },
  {
   "cell_type": "code",
   "execution_count": 35,
   "metadata": {},
   "outputs": [],
   "source": [
    "with open('./data/number2.txt','w') as f:\n",
    "    f.write('Zhuangyingjun\\n')"
   ]
  },
  {
   "cell_type": "code",
   "execution_count": null,
   "metadata": {},
   "outputs": [],
   "source": []
  }
 ],
 "metadata": {
  "kernelspec": {
   "display_name": "Python 3",
   "language": "python",
   "name": "python3"
  },
  "language_info": {
   "codemirror_mode": {
    "name": "ipython",
    "version": 3
   },
   "file_extension": ".py",
   "mimetype": "text/x-python",
   "name": "python",
   "nbconvert_exporter": "python",
   "pygments_lexer": "ipython3",
   "version": "3.7.1"
  }
 },
 "nbformat": 4,
 "nbformat_minor": 2
}
