{
 "cells": [
  {
   "cell_type": "markdown",
   "metadata": {},
   "source": [
    "（一）有四个数字：1、2、3、4，能组成多少个互不相同且无重复数字的三位数？各是多少？"
   ]
  },
  {
   "cell_type": "code",
   "execution_count": 1,
   "metadata": {},
   "outputs": [
    {
     "name": "stdout",
     "output_type": "stream",
     "text": [
      "1 2 3\n",
      "1 2 4\n",
      "1 3 2\n",
      "1 3 4\n",
      "1 4 2\n",
      "1 4 3\n",
      "2 1 3\n",
      "2 1 4\n",
      "2 3 1\n",
      "2 3 4\n",
      "2 4 1\n",
      "2 4 3\n",
      "3 1 2\n",
      "3 1 4\n",
      "3 2 1\n",
      "3 2 4\n",
      "3 4 1\n",
      "3 4 2\n",
      "4 1 2\n",
      "4 1 3\n",
      "4 2 1\n",
      "4 2 3\n",
      "4 3 1\n",
      "4 3 2\n"
     ]
    }
   ],
   "source": [
    "for i in range(1,5):\n",
    "    for j in range(1,5):\n",
    "        for k in range(1,5):\n",
    "            if (i != j) and (i != k) and (j != k):\n",
    "                print(i,j,k)"
   ]
  },
  {
   "cell_type": "markdown",
   "metadata": {},
   "source": [
    "（二）企业发放的奖金根据利润提成。利润(I)低于或等于10万元时，奖金可提10%；利润高于10万元，低于20万元时，低于10万元的部分按10%提成，高于10万元的部分，可提成7.5%；20万到40万之间时，高于20万元的部分，可提成5%；40万到60万之间时高于40万元的部分，可提成3%；60万到100万之间时，高于60万元的部分，可提成1.5%，高于100万元时，超过100万元的部分按1%提成，从键盘输入当月利润I，求应发放奖金总数？\""
   ]
  },
  {
   "cell_type": "code",
   "execution_count": 2,
   "metadata": {},
   "outputs": [
    {
     "name": "stdout",
     "output_type": "stream",
     "text": [
      "请输入你的利润值（单位：万元）：2000000\n",
      "Your total money is:  39500.0\n"
     ]
    }
   ],
   "source": [
    "profit = int(input('请输入你的利润值（单位：万元）：'))\n",
    "arr = [1000000,600000,400000,200000,100000,0]\n",
    "rat = [0.01,0.015,0.03,0.05,0.075,0,1]\n",
    "money = 0\n",
    "for i in range(0,6):\n",
    "    if profit > arr[i]:\n",
    "        money += (profit - arr[i]) * rat[i]\n",
    "        profit = arr[i]\n",
    "print('Your total money is: ',money)"
   ]
  },
  {
   "cell_type": "markdown",
   "metadata": {},
   "source": [
    "（三）输入三个整数x,y,z，请把这三个数由小到大输出\""
   ]
  },
  {
   "cell_type": "code",
   "execution_count": 3,
   "metadata": {},
   "outputs": [
    {
     "name": "stdout",
     "output_type": "stream",
     "text": [
      "input: 5566\n",
      "input: 6865\n",
      "input: 565\n"
     ]
    },
    {
     "data": {
      "text/plain": [
       "[565, 5566, 6865]"
      ]
     },
     "execution_count": 3,
     "metadata": {},
     "output_type": "execute_result"
    }
   ],
   "source": [
    "my_list = []\n",
    "for i in range(3):\n",
    "    tmp = int(input('input: '))\n",
    "    my_list.append(tmp)\n",
    "my_list.sort(reverse = False)\n",
    "my_list"
   ]
  },
  {
   "cell_type": "markdown",
   "metadata": {},
   "source": [
    "（四）将一个列表的数据复制到另一个列表中"
   ]
  },
  {
   "cell_type": "code",
   "execution_count": 5,
   "metadata": {},
   "outputs": [
    {
     "data": {
      "text/plain": [
       "[1, 2, 3]"
      ]
     },
     "execution_count": 5,
     "metadata": {},
     "output_type": "execute_result"
    }
   ],
   "source": [
    "a = [1,2,3]\n",
    "b = a[:]\n",
    "b"
   ]
  },
  {
   "cell_type": "markdown",
   "metadata": {},
   "source": [
    "（五）暂停一秒输出,并格式化当前时间。使用 time 模块的 sleep() 函数"
   ]
  },
  {
   "cell_type": "code",
   "execution_count": 7,
   "metadata": {},
   "outputs": [
    {
     "name": "stdout",
     "output_type": "stream",
     "text": [
      "2019-03-02 11:11:01\n",
      "2019-03-02 11:11:02\n",
      "2019-03-02 11:11:04\n"
     ]
    }
   ],
   "source": [
    "import time\n",
    "print(time.strftime('%Y-%m-%d %H:%M:%S', time.localtime(time.time())))\n",
    "time.sleep(1)\n",
    "print(time.strftime('%Y-%m-%d %H:%M:%S', time.localtime(time.time())))\n",
    "time.sleep(2)\n",
    "print(time.strftime('%Y-%m-%d %H:%M:%S', time.localtime(time.time())))"
   ]
  },
  {
   "cell_type": "markdown",
   "metadata": {},
   "source": [
    "（六）打印出所有的\\\"水仙花数\\\"，所谓\\\"水仙花数\\\"是指一个三位数，其各位数字立方和等于该数本身。例如：153是一个\\\"水仙花数\\\"，因为153=1的三次方＋5的三次方＋3的三次方"
   ]
  },
  {
   "cell_type": "code",
   "execution_count": 8,
   "metadata": {},
   "outputs": [
    {
     "name": "stdout",
     "output_type": "stream",
     "text": [
      "153\n",
      "370\n",
      "371\n",
      "407\n"
     ]
    }
   ],
   "source": [
    "for i in range(1,10):\n",
    "    for j in range(0,10):\n",
    "        for k in range(0,10):\n",
    "            x = i * 100 + j * 10 + k\n",
    "            y = pow(i,3) + pow(j,3) + pow(k,3)\n",
    "            if x == y:\n",
    "                print(x)"
   ]
  },
  {
   "cell_type": "markdown",
   "metadata": {},
   "source": [
    "（七）输入一行字符，分别统计出其中英文字母、空格、数字和其它字符的个数"
   ]
  },
  {
   "cell_type": "code",
   "execution_count": 11,
   "metadata": {},
   "outputs": [
    {
     "name": "stdout",
     "output_type": "stream",
     "text": [
      "input: sds6156  (*()*0\n",
      "char = 3,digit = 2,space = 5,others = 5\n"
     ]
    }
   ],
   "source": [
    "str_input = input('input: ')\n",
    "letter = 0\n",
    "space = 0\n",
    "digit = 0\n",
    "others = 0\n",
    "for c in str_input:\n",
    "    if c.isalpha():\n",
    "        letter += 1\n",
    "    elif c.isspace():\n",
    "        space += 1\n",
    "    elif c.isdigit():\n",
    "        digit += 1\n",
    "    else:\n",
    "        others += 1\n",
    "print('char = %d,digit = %d,space = %d,others = %d' % (letter,space,digit,others))"
   ]
  },
  {
   "cell_type": "markdown",
   "metadata": {},
   "source": [
    "（八）一球从100米高度自由落下，每次落地后反跳回原高度的一半；再落下，求它在第10次落地时，共经过多少米？第10次反弹多高？"
   ]
  },
  {
   "cell_type": "code",
   "execution_count": 12,
   "metadata": {},
   "outputs": [
    {
     "name": "stdout",
     "output_type": "stream",
     "text": [
      "299.609375\n",
      "0.09765625\n"
     ]
    }
   ],
   "source": [
    "h = 100\n",
    "height = []\n",
    "time = 10\n",
    "for i in range(2,time+1):\n",
    "    h /= 2\n",
    "    height.append(h)\n",
    "print(sum(height) * 2 + 100)\n",
    "print(min(height) / 2)"
   ]
  },
  {
   "cell_type": "code",
   "execution_count": null,
   "metadata": {},
   "outputs": [],
   "source": []
  }
 ],
 "metadata": {
  "kernelspec": {
   "display_name": "Python 3",
   "language": "python",
   "name": "python3"
  },
  "language_info": {
   "codemirror_mode": {
    "name": "ipython",
    "version": 3
   },
   "file_extension": ".py",
   "mimetype": "text/x-python",
   "name": "python",
   "nbconvert_exporter": "python",
   "pygments_lexer": "ipython3",
   "version": "3.7.1"
  }
 },
 "nbformat": 4,
 "nbformat_minor": 2
}
